{
 "cells": [
  {
   "cell_type": "markdown",
   "metadata": {},
   "source": [
    "# COMP47670 - Assignment 2: Text Classification\n",
    "\n",
    "## RAYNA VARGHESE\n",
    "\n",
    "## S19200265"
   ]
  },
  {
   "cell_type": "markdown",
   "metadata": {},
   "source": [
    "### <u>Task 1:</u> Web Scraping"
   ]
  },
  {
   "cell_type": "markdown",
   "metadata": {},
   "source": [
    "#### <font color=orange>__*Category Selection:*__</font>\n",
    "\n",
    "The three categories that were selected are : *Restaurants*, *Fashion* and *Gym*"
   ]
  },
  {
   "cell_type": "code",
   "execution_count": 1,
   "metadata": {},
   "outputs": [],
   "source": [
    "from bs4 import BeautifulSoup\n",
    "from urllib.request import urlopen\n",
    "from requests import get\n",
    "import numpy as np\n",
    "import pandas as pd"
   ]
  },
  {
   "cell_type": "code",
   "execution_count": 2,
   "metadata": {},
   "outputs": [],
   "source": [
    "def getData(url):\n",
    "    data = get(url)\n",
    "    # creating object for BeautifulSoup that parses html and xml code\n",
    "    soup = BeautifulSoup(data.text, 'html.parser') \n",
    "    \n",
    "    data = pd.DataFrame()\n",
    "    Ratings = []\n",
    "    Reviews = []\n",
    "    data['Class_label'] = \" \"\n",
    "\n",
    "    # finding all the <a> tags which consists of links to the reviews of each business in each category\n",
    "    business = soup.find_all('a')\n",
    "\n",
    "    \n",
    "    for link in business[1:]:\n",
    "        # extracting the links of each business and appending it to the main link\n",
    "        response = urlopen(\"http://mlg.ucd.ie/modules/yalp/\"+ link.get('href')).read()\n",
    "        html_soup = BeautifulSoup(response, 'html.parser')\n",
    "        \n",
    "        # finding all the <div> tags that consists of class 'review'\n",
    "        list1 = html_soup.find_all('div', class_='review')\n",
    "\n",
    "        for r in list1:\n",
    "            # extracting all <p> tags with class 'rating' which has <img> tag that consists the data for rating(number of stars)\n",
    "            Ratings.append(r.find_all('p', class_='rating')[0].img[\"alt\"])\n",
    "            # extracting all the text within <p> tags with class 'review-text' \n",
    "            Reviews.append(r.find_all('p', class_='review-text')[0].text)\n",
    "\n",
    "    data['Ratings'] = Ratings\n",
    "    data['Reviews'] = Reviews\n",
    "    # creating class label for reviews i.e if the ratings are 4 or 5 it is positive(1) else it is negative(0)\n",
    "    data['Class_label'] = np.where((data['Ratings']=='4-star') | (data['Ratings']=='5-star'), 1, 0) #positive-1, negative-0\n",
    "    \n",
    "    return data"
   ]
  },
  {
   "cell_type": "code",
   "execution_count": 3,
   "metadata": {},
   "outputs": [
    {
     "data": {
      "text/html": [
       "<div>\n",
       "<style scoped>\n",
       "    .dataframe tbody tr th:only-of-type {\n",
       "        vertical-align: middle;\n",
       "    }\n",
       "\n",
       "    .dataframe tbody tr th {\n",
       "        vertical-align: top;\n",
       "    }\n",
       "\n",
       "    .dataframe thead th {\n",
       "        text-align: right;\n",
       "    }\n",
       "</style>\n",
       "<table border=\"1\" class=\"dataframe\">\n",
       "  <thead>\n",
       "    <tr style=\"text-align: right;\">\n",
       "      <th></th>\n",
       "      <th>Class_label</th>\n",
       "      <th>Ratings</th>\n",
       "      <th>Reviews</th>\n",
       "    </tr>\n",
       "  </thead>\n",
       "  <tbody>\n",
       "    <tr>\n",
       "      <td>0</td>\n",
       "      <td>0</td>\n",
       "      <td>2-star</td>\n",
       "      <td>My husband and I had a rare afternoon off so w...</td>\n",
       "    </tr>\n",
       "    <tr>\n",
       "      <td>1</td>\n",
       "      <td>1</td>\n",
       "      <td>4-star</td>\n",
       "      <td>For years I thought this was only a wine store...</td>\n",
       "    </tr>\n",
       "    <tr>\n",
       "      <td>2</td>\n",
       "      <td>1</td>\n",
       "      <td>5-star</td>\n",
       "      <td>This place is so charming! I went with my husb...</td>\n",
       "    </tr>\n",
       "    <tr>\n",
       "      <td>3</td>\n",
       "      <td>1</td>\n",
       "      <td>5-star</td>\n",
       "      <td>We have been wanting to try this place for a c...</td>\n",
       "    </tr>\n",
       "    <tr>\n",
       "      <td>4</td>\n",
       "      <td>0</td>\n",
       "      <td>1-star</td>\n",
       "      <td>Decor looks ok but layout is too busy. Difficu...</td>\n",
       "    </tr>\n",
       "  </tbody>\n",
       "</table>\n",
       "</div>"
      ],
      "text/plain": [
       "   Class_label Ratings                                            Reviews\n",
       "0            0  2-star  My husband and I had a rare afternoon off so w...\n",
       "1            1  4-star  For years I thought this was only a wine store...\n",
       "2            1  5-star  This place is so charming! I went with my husb...\n",
       "3            1  5-star  We have been wanting to try this place for a c...\n",
       "4            0  1-star  Decor looks ok but layout is too busy. Difficu..."
      ]
     },
     "execution_count": 3,
     "metadata": {},
     "output_type": "execute_result"
    }
   ],
   "source": [
    "Restaurants = getData('http://mlg.ucd.ie/modules/yalp/restaurants_list.html')\n",
    "Restaurants[0:5]"
   ]
  },
  {
   "cell_type": "code",
   "execution_count": 4,
   "metadata": {},
   "outputs": [
    {
     "data": {
      "text/html": [
       "<div>\n",
       "<style scoped>\n",
       "    .dataframe tbody tr th:only-of-type {\n",
       "        vertical-align: middle;\n",
       "    }\n",
       "\n",
       "    .dataframe tbody tr th {\n",
       "        vertical-align: top;\n",
       "    }\n",
       "\n",
       "    .dataframe thead th {\n",
       "        text-align: right;\n",
       "    }\n",
       "</style>\n",
       "<table border=\"1\" class=\"dataframe\">\n",
       "  <thead>\n",
       "    <tr style=\"text-align: right;\">\n",
       "      <th></th>\n",
       "      <th>Class_label</th>\n",
       "      <th>Ratings</th>\n",
       "      <th>Reviews</th>\n",
       "    </tr>\n",
       "  </thead>\n",
       "  <tbody>\n",
       "    <tr>\n",
       "      <td>0</td>\n",
       "      <td>1</td>\n",
       "      <td>5-star</td>\n",
       "      <td>Looking for the best tactical supplies? Look n...</td>\n",
       "    </tr>\n",
       "    <tr>\n",
       "      <td>1</td>\n",
       "      <td>0</td>\n",
       "      <td>1-star</td>\n",
       "      <td>Stood in line like an idiot for 5 minutes to p...</td>\n",
       "    </tr>\n",
       "    <tr>\n",
       "      <td>2</td>\n",
       "      <td>1</td>\n",
       "      <td>4-star</td>\n",
       "      <td>Another great store with quality Equipment. Th...</td>\n",
       "    </tr>\n",
       "    <tr>\n",
       "      <td>3</td>\n",
       "      <td>1</td>\n",
       "      <td>5-star</td>\n",
       "      <td>The Problem with this store is not that they h...</td>\n",
       "    </tr>\n",
       "    <tr>\n",
       "      <td>4</td>\n",
       "      <td>1</td>\n",
       "      <td>5-star</td>\n",
       "      <td>Great place! We went in at almost closing time...</td>\n",
       "    </tr>\n",
       "  </tbody>\n",
       "</table>\n",
       "</div>"
      ],
      "text/plain": [
       "   Class_label Ratings                                            Reviews\n",
       "0            1  5-star  Looking for the best tactical supplies? Look n...\n",
       "1            0  1-star  Stood in line like an idiot for 5 minutes to p...\n",
       "2            1  4-star  Another great store with quality Equipment. Th...\n",
       "3            1  5-star  The Problem with this store is not that they h...\n",
       "4            1  5-star  Great place! We went in at almost closing time..."
      ]
     },
     "execution_count": 4,
     "metadata": {},
     "output_type": "execute_result"
    }
   ],
   "source": [
    "Fashion = getData('http://mlg.ucd.ie/modules/yalp/fashion_list.html')\n",
    "Fashion[0:5]"
   ]
  },
  {
   "cell_type": "code",
   "execution_count": 5,
   "metadata": {},
   "outputs": [
    {
     "data": {
      "text/html": [
       "<div>\n",
       "<style scoped>\n",
       "    .dataframe tbody tr th:only-of-type {\n",
       "        vertical-align: middle;\n",
       "    }\n",
       "\n",
       "    .dataframe tbody tr th {\n",
       "        vertical-align: top;\n",
       "    }\n",
       "\n",
       "    .dataframe thead th {\n",
       "        text-align: right;\n",
       "    }\n",
       "</style>\n",
       "<table border=\"1\" class=\"dataframe\">\n",
       "  <thead>\n",
       "    <tr style=\"text-align: right;\">\n",
       "      <th></th>\n",
       "      <th>Class_label</th>\n",
       "      <th>Ratings</th>\n",
       "      <th>Reviews</th>\n",
       "    </tr>\n",
       "  </thead>\n",
       "  <tbody>\n",
       "    <tr>\n",
       "      <td>0</td>\n",
       "      <td>1</td>\n",
       "      <td>5-star</td>\n",
       "      <td>If you're looking for boxing in the East Valle...</td>\n",
       "    </tr>\n",
       "    <tr>\n",
       "      <td>1</td>\n",
       "      <td>0</td>\n",
       "      <td>1-star</td>\n",
       "      <td>I was really excited to try a fun workout rout...</td>\n",
       "    </tr>\n",
       "    <tr>\n",
       "      <td>2</td>\n",
       "      <td>0</td>\n",
       "      <td>2-star</td>\n",
       "      <td>I was interested in taking a boxing bootcamp c...</td>\n",
       "    </tr>\n",
       "    <tr>\n",
       "      <td>3</td>\n",
       "      <td>1</td>\n",
       "      <td>4-star</td>\n",
       "      <td>I worked out at 1 on 1 boxing for a bout 6 mon...</td>\n",
       "    </tr>\n",
       "    <tr>\n",
       "      <td>4</td>\n",
       "      <td>1</td>\n",
       "      <td>4-star</td>\n",
       "      <td>This place literally KICKED my butt every. sin...</td>\n",
       "    </tr>\n",
       "  </tbody>\n",
       "</table>\n",
       "</div>"
      ],
      "text/plain": [
       "   Class_label Ratings                                            Reviews\n",
       "0            1  5-star  If you're looking for boxing in the East Valle...\n",
       "1            0  1-star  I was really excited to try a fun workout rout...\n",
       "2            0  2-star  I was interested in taking a boxing bootcamp c...\n",
       "3            1  4-star  I worked out at 1 on 1 boxing for a bout 6 mon...\n",
       "4            1  4-star  This place literally KICKED my butt every. sin..."
      ]
     },
     "execution_count": 5,
     "metadata": {},
     "output_type": "execute_result"
    }
   ],
   "source": [
    "Gym = getData('http://mlg.ucd.ie/modules/yalp/gym_list.html')\n",
    "Gym[0:5]"
   ]
  },
  {
   "cell_type": "markdown",
   "metadata": {},
   "source": [
    "***"
   ]
  },
  {
   "cell_type": "markdown",
   "metadata": {},
   "source": [
    "### <u>Task 2:</u> Classification Model"
   ]
  },
  {
   "cell_type": "markdown",
   "metadata": {},
   "source": [
    "Naive Bayes classification model is used as, for categorical data Bayesian classifier is best suitable and also after trying out different variations of test the model that gives fairly correct prediction was Naive Bayes."
   ]
  },
  {
   "cell_type": "code",
   "execution_count": 6,
   "metadata": {},
   "outputs": [],
   "source": [
    "import nltk\n",
    "import sklearn\n",
    "from sklearn.model_selection import train_test_split\n",
    "from sklearn.feature_extraction.text import CountVectorizer\n",
    "from sklearn.naive_bayes import MultinomialNB\n",
    "from sklearn.metrics import confusion_matrix\n",
    "from sklearn.model_selection import cross_val_score\n",
    "#import warnings\n",
    "#warnings.filterwarnings(\"ignore\", category=FutureWarning)"
   ]
  },
  {
   "cell_type": "code",
   "execution_count": 7,
   "metadata": {},
   "outputs": [],
   "source": [
    "# converting the text into tokens for further processisng\n",
    "vectorizer = CountVectorizer() "
   ]
  },
  {
   "cell_type": "markdown",
   "metadata": {},
   "source": [
    "#### <font color=purple>__i] Category 1: Restaurants:__</font>"
   ]
  },
  {
   "cell_type": "markdown",
   "metadata": {},
   "source": [
    "##### <font color=orange>__*a] Preprocessing data:*__</font>"
   ]
  },
  {
   "cell_type": "code",
   "execution_count": 8,
   "metadata": {},
   "outputs": [
    {
     "name": "stdout",
     "output_type": "stream",
     "text": [
      "Samples per class: [ 838 1162]\n"
     ]
    }
   ],
   "source": [
    "print(\"Samples per class: {}\".format(np.bincount(Restaurants['Class_label'])))"
   ]
  },
  {
   "cell_type": "markdown",
   "metadata": {},
   "source": [
    "If we count the Class_label column, we have 838 positive reviews and 1162 negative reviews\n",
    "<p> Now, we split the data in such a way that 70% is training data and 30% is test data </p>"
   ]
  },
  {
   "cell_type": "code",
   "execution_count": 9,
   "metadata": {},
   "outputs": [
    {
     "name": "stdout",
     "output_type": "stream",
     "text": [
      "(1400,) (600,) (1400,) (600,)\n"
     ]
    }
   ],
   "source": [
    "Rx_train, Rx_test, Ry_train, Ry_test = train_test_split(Restaurants['Reviews'], Restaurants['Class_label'], test_size=0.3)\n",
    "print(Rx_train.shape,Rx_test.shape,Ry_train.shape,Ry_test.shape)"
   ]
  },
  {
   "cell_type": "code",
   "execution_count": 10,
   "metadata": {},
   "outputs": [
    {
     "name": "stdout",
     "output_type": "stream",
     "text": [
      "Samples per class: [583 817]\n",
      "Samples per class: [255 345]\n"
     ]
    }
   ],
   "source": [
    "print(\"Samples per class: {}\".format(np.bincount(Ry_train))) # [positive,negative]\n",
    "print(\"Samples per class: {}\".format(np.bincount(Ry_test)))"
   ]
  },
  {
   "cell_type": "markdown",
   "metadata": {},
   "source": [
    "Tokenizing the training and testing dataset\n",
    "<p>We fit and transform our training set and then perform transform on test set. Here, we have built a vocabulary from training dataset and we apply it on the test dataset</p>"
   ]
  },
  {
   "cell_type": "code",
   "execution_count": 11,
   "metadata": {},
   "outputs": [],
   "source": [
    "Rx_train = vectorizer.fit_transform(Rx_train)\n",
    "Rx_test = vectorizer.transform(Rx_test)"
   ]
  },
  {
   "cell_type": "markdown",
   "metadata": {},
   "source": [
    "##### <font color=orange>__*b] Classification Model (Naive Bayes):*__</font>"
   ]
  },
  {
   "cell_type": "markdown",
   "metadata": {},
   "source": [
    "Now, as this is binary classification model, we will use cross validation with multibinomial Naive Bayes with cv of 5 that says that it is 5 times as many as the original data, so we get a mean value \n"
   ]
  },
  {
   "cell_type": "code",
   "execution_count": 12,
   "metadata": {},
   "outputs": [
    {
     "name": "stdout",
     "output_type": "stream",
     "text": [
      "Mean cross validation accuracy: 0.86\n"
     ]
    }
   ],
   "source": [
    "R_cv_scores = cross_val_score(MultinomialNB(), Rx_train, Ry_train, cv=5)\n",
    "print(\"Mean cross validation accuracy: {:.2f}\".format(np.mean(R_cv_scores)))"
   ]
  },
  {
   "cell_type": "code",
   "execution_count": 13,
   "metadata": {},
   "outputs": [
    {
     "name": "stdout",
     "output_type": "stream",
     "text": [
      "Training set score: 0.961\n",
      "Test set score: 0.848\n"
     ]
    }
   ],
   "source": [
    "# naive bayes model\n",
    "nb = MultinomialNB()\n",
    "nb.fit(Rx_train, Ry_train)\n",
    "print(\"Training set score: {:.3f}\".format(nb.score(Rx_train, Ry_train)))\n",
    "print(\"Test set score: {:.3f}\".format(nb.score(Rx_test, Ry_test)))\n",
    "#test score is consistent with cross validation score"
   ]
  },
  {
   "cell_type": "markdown",
   "metadata": {},
   "source": [
    "Here we can see that the test score is 0.858 which is consistent with the cross validation score."
   ]
  },
  {
   "cell_type": "markdown",
   "metadata": {},
   "source": [
    "##### <font color=orange>__*c] Prediction:*__</font>"
   ]
  },
  {
   "cell_type": "code",
   "execution_count": 14,
   "metadata": {},
   "outputs": [
    {
     "name": "stdout",
     "output_type": "stream",
     "text": [
      "Confusion matrix: \n",
      "[[205  50]\n",
      " [ 41 304]]\n"
     ]
    }
   ],
   "source": [
    "R_pred_nb = nb.predict(Rx_test)\n",
    "R_confusion = confusion_matrix(Ry_test, R_pred_nb)\n",
    "print(\"Confusion matrix: \\n{}\".format(R_confusion))"
   ]
  },
  {
   "cell_type": "markdown",
   "metadata": {},
   "source": [
    "Here, we can notice that there are 53 false-positive and 32 false-negative, which says around 30 incorrect in both cases.\n",
    "<p>Similarly, for other 2 categories, the same procedure is performed.</p>"
   ]
  },
  {
   "cell_type": "markdown",
   "metadata": {},
   "source": [
    "#### <font color=purple>__ii] Category 2: Fashion__</font>"
   ]
  },
  {
   "cell_type": "markdown",
   "metadata": {},
   "source": [
    "##### <font color=orange>__*a] Preprocessing data:*__</font>"
   ]
  },
  {
   "cell_type": "code",
   "execution_count": 15,
   "metadata": {},
   "outputs": [
    {
     "name": "stdout",
     "output_type": "stream",
     "text": [
      "Samples per class: [ 795 1205]\n"
     ]
    }
   ],
   "source": [
    "print(\"Samples per class: {}\".format(np.bincount(Fashion['Class_label'])))"
   ]
  },
  {
   "cell_type": "code",
   "execution_count": 16,
   "metadata": {},
   "outputs": [
    {
     "name": "stdout",
     "output_type": "stream",
     "text": [
      "(1400,) (600,) (1400,) (600,)\n"
     ]
    }
   ],
   "source": [
    "Fx_train, Fx_test, Fy_train, Fy_test = train_test_split(Fashion['Reviews'], Fashion['Class_label'], test_size=0.3)\n",
    "print(Fx_train.shape,Fx_test.shape,Fy_train.shape,Fy_test.shape)"
   ]
  },
  {
   "cell_type": "code",
   "execution_count": 17,
   "metadata": {},
   "outputs": [
    {
     "name": "stdout",
     "output_type": "stream",
     "text": [
      "Samples per class: [557 843]\n",
      "Samples per class: [238 362]\n"
     ]
    }
   ],
   "source": [
    "print(\"Samples per class: {}\".format(np.bincount(Fy_train))) # [positive,negative]\n",
    "print(\"Samples per class: {}\".format(np.bincount(Fy_test)))"
   ]
  },
  {
   "cell_type": "code",
   "execution_count": 18,
   "metadata": {},
   "outputs": [],
   "source": [
    "Fx_train = vectorizer.fit_transform(Fx_train)\n",
    "Fx_test = vectorizer.transform(Fx_test)"
   ]
  },
  {
   "cell_type": "markdown",
   "metadata": {},
   "source": [
    "##### <font color=orange>__*b] Classification Model (Naive Bayes):*__</font>"
   ]
  },
  {
   "cell_type": "code",
   "execution_count": 19,
   "metadata": {},
   "outputs": [
    {
     "name": "stdout",
     "output_type": "stream",
     "text": [
      "Mean cross validation accuracy: 0.88\n"
     ]
    }
   ],
   "source": [
    "F_cv_scores = cross_val_score(MultinomialNB(), Fx_train, Fy_train, cv=5)\n",
    "print(\"Mean cross validation accuracy: {:.2f}\".format(np.mean(F_cv_scores)))"
   ]
  },
  {
   "cell_type": "code",
   "execution_count": 20,
   "metadata": {},
   "outputs": [
    {
     "name": "stdout",
     "output_type": "stream",
     "text": [
      "Training set score: 0.968\n",
      "Test set score: 0.888\n"
     ]
    }
   ],
   "source": [
    "# naive bayes model\n",
    "nb = MultinomialNB()\n",
    "nb.fit(Fx_train, Fy_train)\n",
    "print(\"Training set score: {:.3f}\".format(nb.score(Fx_train, Fy_train)))\n",
    "print(\"Test set score: {:.3f}\".format(nb.score(Fx_test, Fy_test)))\n",
    "#test score is consistent with cross validation score"
   ]
  },
  {
   "cell_type": "markdown",
   "metadata": {},
   "source": [
    "With this dataset there is slightly more difference in the test score and cross validation score"
   ]
  },
  {
   "cell_type": "markdown",
   "metadata": {},
   "source": [
    "##### <font color=orange>__*c] Prediction:*__</font>"
   ]
  },
  {
   "cell_type": "code",
   "execution_count": 21,
   "metadata": {},
   "outputs": [
    {
     "name": "stdout",
     "output_type": "stream",
     "text": [
      "Confusion matrix: \n",
      "[[196  42]\n",
      " [ 25 337]]\n"
     ]
    }
   ],
   "source": [
    "F_pred_nb = nb.predict(Fx_test)\n",
    "F_confusion = confusion_matrix(Fy_test, F_pred_nb)\n",
    "print(\"Confusion matrix: \\n{}\".format(F_confusion))"
   ]
  },
  {
   "cell_type": "markdown",
   "metadata": {},
   "source": [
    "The number of incorrect data is lesser than the previous dataset."
   ]
  },
  {
   "cell_type": "markdown",
   "metadata": {},
   "source": [
    "#### <font color=purple>__iii] Category 3: Gym__</font>"
   ]
  },
  {
   "cell_type": "markdown",
   "metadata": {},
   "source": [
    "##### <font color=orange>__*a] Preprocessing data:*__</font>"
   ]
  },
  {
   "cell_type": "code",
   "execution_count": 22,
   "metadata": {},
   "outputs": [
    {
     "name": "stdout",
     "output_type": "stream",
     "text": [
      "Samples per class: [ 701 1299]\n"
     ]
    }
   ],
   "source": [
    "#if we count the Class_label column, we have 701 positive reviews and 1299 negative reviews\n",
    "print(\"Samples per class: {}\".format(np.bincount(Gym['Class_label'])))"
   ]
  },
  {
   "cell_type": "code",
   "execution_count": 23,
   "metadata": {},
   "outputs": [
    {
     "name": "stdout",
     "output_type": "stream",
     "text": [
      "(1400,) (600,) (1400,) (600,)\n"
     ]
    }
   ],
   "source": [
    "Gx_train, Gx_test, Gy_train, Gy_test = train_test_split(Gym['Reviews'], Gym['Class_label'], test_size=0.3)\n",
    "print(Gx_train.shape,Gx_test.shape,Gy_train.shape,Gy_test.shape)"
   ]
  },
  {
   "cell_type": "code",
   "execution_count": 24,
   "metadata": {},
   "outputs": [
    {
     "name": "stdout",
     "output_type": "stream",
     "text": [
      "Samples per class: [489 911]\n",
      "Samples per class: [212 388]\n"
     ]
    }
   ],
   "source": [
    "print(\"Samples per class: {}\".format(np.bincount(Gy_train))) # [positive,negative]\n",
    "print(\"Samples per class: {}\".format(np.bincount(Gy_test)))"
   ]
  },
  {
   "cell_type": "code",
   "execution_count": 25,
   "metadata": {},
   "outputs": [],
   "source": [
    "Gx_train = vectorizer.fit_transform(Gx_train)\n",
    "Gx_test = vectorizer.transform(Gx_test)"
   ]
  },
  {
   "cell_type": "markdown",
   "metadata": {},
   "source": [
    "##### <font color=orange>__*b] Classification Model (Naive Bayes):*__</font>"
   ]
  },
  {
   "cell_type": "code",
   "execution_count": 26,
   "metadata": {},
   "outputs": [
    {
     "name": "stdout",
     "output_type": "stream",
     "text": [
      "Mean cross validation accuracy: 0.91\n"
     ]
    }
   ],
   "source": [
    "G_cv_scores = cross_val_score(MultinomialNB(), Gx_train, Gy_train, cv=5)\n",
    "print(\"Mean cross validation accuracy: {:.2f}\".format(np.mean(G_cv_scores)))"
   ]
  },
  {
   "cell_type": "code",
   "execution_count": 27,
   "metadata": {},
   "outputs": [
    {
     "name": "stdout",
     "output_type": "stream",
     "text": [
      "Training set score: 0.969\n",
      "Test set score: 0.903\n"
     ]
    }
   ],
   "source": [
    "# naive bayes model\n",
    "nb = MultinomialNB()\n",
    "nb.fit(Gx_train, Gy_train)\n",
    "print(\"Training set score: {:.3f}\".format(nb.score(Gx_train, Gy_train)))\n",
    "print(\"Test set score: {:.3f}\".format(nb.score(Gx_test, Gy_test)))\n",
    "#test score is consistent with cross validation score"
   ]
  },
  {
   "cell_type": "markdown",
   "metadata": {},
   "source": [
    "##### <font color=orange>__*c] Prediction:*__</font>"
   ]
  },
  {
   "cell_type": "code",
   "execution_count": 28,
   "metadata": {},
   "outputs": [
    {
     "name": "stdout",
     "output_type": "stream",
     "text": [
      "Confusion matrix: \n",
      "[[177  35]\n",
      " [ 23 365]]\n"
     ]
    }
   ],
   "source": [
    "G_pred_nb = nb.predict(Gx_test)\n",
    "G_confusion = confusion_matrix(Gy_test, G_pred_nb)\n",
    "print(\"Confusion matrix: \\n{}\".format(G_confusion))"
   ]
  },
  {
   "cell_type": "markdown",
   "metadata": {},
   "source": [
    "There is huge amount of difference in false-positive and false-negative, where false-positive is twice as much as false-negative."
   ]
  },
  {
   "cell_type": "markdown",
   "metadata": {},
   "source": [
    "### <u>Task 3:</u> Performance Evaluation"
   ]
  },
  {
   "cell_type": "markdown",
   "metadata": {},
   "source": [
    "Evaluating the performance of a model with one category and using that to test on the other two categories."
   ]
  },
  {
   "cell_type": "markdown",
   "metadata": {},
   "source": [
    "#### <font color=purple>__a] Testing classification model of 'Restaurants' on 'Fashion' and 'Gym'__</font>"
   ]
  },
  {
   "cell_type": "markdown",
   "metadata": {},
   "source": [
    "##### <font color=orange>__*i] Test Fashion Dataset*__</font>"
   ]
  },
  {
   "cell_type": "code",
   "execution_count": 29,
   "metadata": {},
   "outputs": [
    {
     "name": "stdout",
     "output_type": "stream",
     "text": [
      "Training set score: 0.955\n",
      "Test set score: 0.740\n"
     ]
    }
   ],
   "source": [
    "Rx_train, Rx_test, Ry_train, Ry_test = train_test_split(Restaurants['Reviews'], Restaurants['Class_label'], test_size=0.3)\n",
    "Fx_train, Fx_test, Fy_train, Fy_test = train_test_split(Fashion['Reviews'], Fashion['Class_label'], test_size=0.3)\n",
    "\n",
    "Rx_train = vectorizer.fit_transform(Rx_train)\n",
    "Fx_test = vectorizer.transform(Fx_test)\n",
    "\n",
    "nb = MultinomialNB()\n",
    "nb.fit(Rx_train, Ry_train)\n",
    "print(\"Training set score: {:.3f}\".format(nb.score(Rx_train, Ry_train)))\n",
    "print(\"Test set score: {:.3f}\".format(nb.score(Fx_test, Fy_test)))"
   ]
  },
  {
   "cell_type": "markdown",
   "metadata": {},
   "source": [
    "##### <font color=orange>__*ii] Test Gym Dataset*__</font>"
   ]
  },
  {
   "cell_type": "code",
   "execution_count": 30,
   "metadata": {},
   "outputs": [
    {
     "name": "stdout",
     "output_type": "stream",
     "text": [
      "Training set score: 0.959\n",
      "Test set score: 0.808\n"
     ]
    }
   ],
   "source": [
    "Rx_train, Rx_test, Ry_train, Ry_test = train_test_split(Restaurants['Reviews'], Restaurants['Class_label'], test_size=0.3)\n",
    "Gx_train, Gx_test, Gy_train, Gy_test = train_test_split(Gym['Reviews'], Gym['Class_label'], test_size=0.3)\n",
    "\n",
    "Rx_train = vectorizer.fit_transform(Rx_train)\n",
    "Gx_test = vectorizer.transform(Gx_test)\n",
    "\n",
    "nb = MultinomialNB()\n",
    "nb.fit(Rx_train, Ry_train)\n",
    "print(\"Training set score: {:.3f}\".format(nb.score(Rx_train, Ry_train)))\n",
    "print(\"Test set score: {:.3f}\".format(nb.score(Gx_test, Gy_test)))"
   ]
  },
  {
   "cell_type": "markdown",
   "metadata": {},
   "source": [
    "#### <font color=purple>__b] Testing classification model of 'Fashion' on 'Restaurants' and 'Gym'__</font>"
   ]
  },
  {
   "cell_type": "markdown",
   "metadata": {},
   "source": [
    "##### <font color=orange>__*i] Test Restaurants Dataset*__</font>"
   ]
  },
  {
   "cell_type": "code",
   "execution_count": 31,
   "metadata": {},
   "outputs": [
    {
     "name": "stdout",
     "output_type": "stream",
     "text": [
      "Training set score: 0.961\n",
      "Test set score: 0.838\n"
     ]
    }
   ],
   "source": [
    "Fx_train, Fx_test, Fy_train, Fy_test = train_test_split(Fashion['Reviews'], Fashion['Class_label'], test_size=0.3)\n",
    "Rx_train, Rx_test, Ry_train, Ry_test = train_test_split(Restaurants['Reviews'], Restaurants['Class_label'], test_size=0.3)\n",
    "\n",
    "Fx_train = vectorizer.fit_transform(Fx_train)\n",
    "Rx_test = vectorizer.transform(Rx_test)\n",
    "\n",
    "# naive bayes model\n",
    "nb = MultinomialNB()\n",
    "nb.fit(Fx_train, Fy_train)\n",
    "print(\"Training set score: {:.3f}\".format(nb.score(Fx_train, Fy_train)))\n",
    "print(\"Test set score: {:.3f}\".format(nb.score(Rx_test, Ry_test)))"
   ]
  },
  {
   "cell_type": "markdown",
   "metadata": {},
   "source": [
    "##### <font color=orange>__*ii] Test Gym Dataset*__</font>"
   ]
  },
  {
   "cell_type": "code",
   "execution_count": 32,
   "metadata": {},
   "outputs": [
    {
     "name": "stdout",
     "output_type": "stream",
     "text": [
      "Training set score: 0.974\n",
      "Test set score: 0.872\n"
     ]
    }
   ],
   "source": [
    "Fx_train, Fx_test, Fy_train, Fy_test = train_test_split(Fashion['Reviews'], Fashion['Class_label'], test_size=0.3)\n",
    "Gx_train, Gx_test, Gy_train, Gy_test = train_test_split(Gym['Reviews'], Gym['Class_label'], test_size=0.3)\n",
    "\n",
    "Fx_train = vectorizer.fit_transform(Fx_train)\n",
    "Gx_test = vectorizer.transform(Gx_test)\n",
    "\n",
    "nb = MultinomialNB()\n",
    "nb.fit(Fx_train, Fy_train)\n",
    "print(\"Training set score: {:.3f}\".format(nb.score(Fx_train, Fy_train)))\n",
    "print(\"Test set score: {:.3f}\".format(nb.score(Gx_test, Gy_test)))"
   ]
  },
  {
   "cell_type": "markdown",
   "metadata": {},
   "source": [
    "#### <font color=purple>__c] Testing classification model of 'Gym' on 'Restaurants' and 'Fashion'__</font>"
   ]
  },
  {
   "cell_type": "markdown",
   "metadata": {},
   "source": [
    "##### <font color=orange>__*i] Test Restaurants Dataset*__</font>"
   ]
  },
  {
   "cell_type": "code",
   "execution_count": 33,
   "metadata": {},
   "outputs": [
    {
     "name": "stdout",
     "output_type": "stream",
     "text": [
      "Training set score: 0.966\n",
      "Test set score: 0.825\n"
     ]
    }
   ],
   "source": [
    "Gx_train, Gx_test, Gy_train, Gy_test = train_test_split(Gym['Reviews'], Gym['Class_label'], test_size=0.3)\n",
    "Rx_train, Rx_test, Ry_train, Ry_test = train_test_split(Restaurants['Reviews'], Restaurants['Class_label'], test_size=0.3)\n",
    "\n",
    "Gx_train = vectorizer.fit_transform(Gx_train)\n",
    "Rx_test = vectorizer.transform(Rx_test)\n",
    "\n",
    "nb = MultinomialNB()\n",
    "nb.fit(Gx_train, Gy_train)\n",
    "print(\"Training set score: {:.3f}\".format(nb.score(Gx_train, Gy_train)))\n",
    "print(\"Test set score: {:.3f}\".format(nb.score(Rx_test, Ry_test)))\n"
   ]
  },
  {
   "cell_type": "markdown",
   "metadata": {},
   "source": [
    "##### <font color=orange>__*ii] Test Fashion Dataset*__</font>"
   ]
  },
  {
   "cell_type": "code",
   "execution_count": 34,
   "metadata": {},
   "outputs": [
    {
     "name": "stdout",
     "output_type": "stream",
     "text": [
      "Training set score: 0.966\n",
      "Test set score: 0.803\n"
     ]
    }
   ],
   "source": [
    "Gx_train, Gx_test, Gy_train, Gy_test = train_test_split(Gym['Reviews'], Gym['Class_label'], test_size=0.3)\n",
    "Fx_train, Fx_test, Fy_train, Fy_test = train_test_split(Fashion['Reviews'], Fashion['Class_label'], test_size=0.3)\n",
    "\n",
    "Gx_train = vectorizer.fit_transform(Gx_train)\n",
    "Fx_test = vectorizer.transform(Fx_test)\n",
    "\n",
    "nb = MultinomialNB()\n",
    "nb.fit(Gx_train, Gy_train)\n",
    "print(\"Training set score: {:.3f}\".format(nb.score(Gx_train, Gy_train)))\n",
    "print(\"Test set score: {:.3f}\".format(nb.score(Fx_test, Fy_test)))"
   ]
  },
  {
   "cell_type": "markdown",
   "metadata": {},
   "source": [
    "There is drastic difference in training and testing score, which says how important the role of training datasets is. The 'fashion' model creates least difference as compared to the other two categories, however the difference cant be ignored. Hence it wouldnt be wise to use the classification model of another trained dataset."
   ]
  }
 ],
 "metadata": {
  "kernelspec": {
   "display_name": "Python 3 (ipykernel)",
   "language": "python",
   "name": "python3"
  },
  "language_info": {
   "codemirror_mode": {
    "name": "ipython",
    "version": 3
   },
   "file_extension": ".py",
   "mimetype": "text/x-python",
   "name": "python",
   "nbconvert_exporter": "python",
   "pygments_lexer": "ipython3",
   "version": "3.9.7"
  }
 },
 "nbformat": 4,
 "nbformat_minor": 4
}
